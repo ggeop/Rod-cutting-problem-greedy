{
 "cells": [
  {
   "cell_type": "code",
   "execution_count": 30,
   "metadata": {},
   "outputs": [],
   "source": [
    "def calulate_assignments(row_length, cuts, unit):\n",
    "    \n",
    "    # Problem initialization\n",
    "    assignments = []\n",
    "    wastage = 0\n",
    "    row_id = 1\n",
    "    residual = row_length\n",
    "    \n",
    "    #Sort the cut lengths in descending order\n",
    "    cuts = sorted(cuts, reverse=True)\n",
    "\n",
    "    while cuts != []:\n",
    "        for cutting_id, cutting in enumerate(cuts):\n",
    "            \n",
    "            go_to_next_row=True\n",
    "            \n",
    "            # When a cut is valid do assignment!\n",
    "            if cutting <= residual:\n",
    "                cuts.pop(cutting_id)\n",
    "                residual = residual - cutting\n",
    "                assignments.append({'Rob id': row_id, 'Cut length':str(cutting) +' '+ unit})\n",
    "                go_to_next_row=False\n",
    "\n",
    "        # Go to the next row!        \n",
    "        if go_to_next_row or residual == 0:\n",
    "            row_id +=1\n",
    "            assignments.append('') # Trick for illustration purposes in print :-)\n",
    "            wastage = wastage + residual\n",
    "            residual = row_length\n",
    "   \n",
    "        if cuts == []:\n",
    "            wastage = wastage + residual\n",
    "            \n",
    "    print('*'*60)\n",
    "    print('RESULTS')\n",
    "    print('*'*60)\n",
    "    \n",
    "    print('-'*10 + 'Assignments' + '-'*10)\n",
    "    for assignment in assignments:\n",
    "        print(assignment)\n",
    "    \n",
    "    print('-'*9 + 'Number of Robes' + '-'*9)\n",
    "    print(row_id)\n",
    "    \n",
    "    print('-'*12 + 'Wastage' + '-'*12)\n",
    "    print(wastage, unit)\n",
    "    \n",
    "    print('*'*60)\n"
   ]
  },
  {
   "cell_type": "code",
   "execution_count": 31,
   "metadata": {},
   "outputs": [],
   "source": [
    "row_length = 10\n",
    "cuttting_list = [10,1,7,9,3,1,1,8]"
   ]
  },
  {
   "cell_type": "code",
   "execution_count": 32,
   "metadata": {},
   "outputs": [
    {
     "name": "stdout",
     "output_type": "stream",
     "text": [
      "************************************************************\n",
      "RESULTS\n",
      "************************************************************\n",
      "----------Assignments----------\n",
      "{'Rob id': 1, 'Cut length': '10 m'}\n",
      "\n",
      "{'Rob id': 2, 'Cut length': '9 m'}\n",
      "{'Rob id': 2, 'Cut length': '1 m'}\n",
      "\n",
      "{'Rob id': 3, 'Cut length': '8 m'}\n",
      "{'Rob id': 3, 'Cut length': '1 m'}\n",
      "{'Rob id': 3, 'Cut length': '1 m'}\n",
      "\n",
      "{'Rob id': 4, 'Cut length': '7 m'}\n",
      "{'Rob id': 4, 'Cut length': '3 m'}\n",
      "\n",
      "---------Number of Robes---------\n",
      "5\n",
      "------------Wastage------------\n",
      "10 m\n",
      "************************************************************\n",
      "Wall time: 0 ns\n"
     ]
    }
   ],
   "source": [
    "%%time\n",
    "calulate_assignments(row_length=row_length,\n",
    "                     cuts=cuttting_list, \n",
    "                     unit='m'\n",
    "                    )"
   ]
  }
 ],
 "metadata": {
  "kernelspec": {
   "display_name": "Python 3",
   "language": "python",
   "name": "python3"
  },
  "language_info": {
   "codemirror_mode": {
    "name": "ipython",
    "version": 3
   },
   "file_extension": ".py",
   "mimetype": "text/x-python",
   "name": "python",
   "nbconvert_exporter": "python",
   "pygments_lexer": "ipython3",
   "version": "3.6.6"
  }
 },
 "nbformat": 4,
 "nbformat_minor": 2
}
